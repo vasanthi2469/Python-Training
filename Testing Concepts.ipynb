{
  "nbformat": 4,
  "nbformat_minor": 0,
  "metadata": {
    "colab": {
      "provenance": [],
      "authorship_tag": "ABX9TyOpusalKKMJwS+gGZqc8XyZ",
      "include_colab_link": true
    },
    "kernelspec": {
      "name": "python3",
      "display_name": "Python 3"
    },
    "language_info": {
      "name": "python"
    }
  },
  "cells": [
    {
      "cell_type": "markdown",
      "metadata": {
        "id": "view-in-github",
        "colab_type": "text"
      },
      "source": [
        "<a href=\"https://colab.research.google.com/github/vasanthi2469/Python-Training/blob/main/Testing%20Concepts.ipynb\" target=\"_parent\"><img src=\"https://colab.research.google.com/assets/colab-badge.svg\" alt=\"Open In Colab\"/></a>"
      ]
    },
    {
      "cell_type": "code",
      "execution_count": 1,
      "metadata": {
        "colab": {
          "base_uri": "https://localhost:8080/"
        },
        "id": "p_wm7sFmTMQV",
        "outputId": "d2fb5187-810b-432b-fbd1-19f7d11fca69"
      },
      "outputs": [
        {
          "output_type": "stream",
          "name": "stdout",
          "text": [
            "a. Number of starting configurations: 20\n"
          ]
        }
      ],
      "source": [
        "# prompt: Consider the 3-means algorithm on a set S consisting of the following 6 points in the plane: a= (0,0), b = (8,0), c=(16,0), d=(0,6), e=(8,6), f=(16,6). The algorithm uses the Euclidean distance metric to assign each point to its nearest centroid; ties are broken in favor of the centroid to the left/down. A starting configuration is a subset of 3 starting points from S that form the initial centroids. A 3-partition is a partition of S into 3 subsets; thus {a,b,e}, {c,d}, {f} is a 3-partition; clearly any 3-partition induces a set of three centroids in the natural manner. A 3-partition is stable if repetition of the 3-means iteration with the induced centroids leaves it unchanged.\n",
        "# a. How many starting configurations are there?\n",
        "# b. What are the stable 3-partitions?\n",
        "# c. What is the number of starting configurations leading to each of the stable 3-partitions in (b) above?\n",
        "# d. What is the maximum number of iterations from any starting configuration to its stable 3-partition?\n",
        "\n",
        "import itertools\n",
        "\n",
        "def euclidean_distance(point1, point2):\n",
        "  \"\"\"Calculates the Euclidean distance between two points.\"\"\"\n",
        "  return ((point1[0] - point2[0])**2 + (point1[1] - point2[1])**2)**0.5\n",
        "\n",
        "def calculate_centroid(points):\n",
        "  \"\"\"Calculates the centroid of a set of points.\"\"\"\n",
        "  if not points:\n",
        "    return None\n",
        "  x_sum = sum(p[0] for p in points)\n",
        "  y_sum = sum(p[1] for p in points)\n",
        "  return (x_sum / len(points), y_sum / len(points))\n",
        "\n",
        "def assign_to_centroid(point, centroids):\n",
        "    \"\"\"Assigns a point to the nearest centroid, breaking ties left/down.\"\"\"\n",
        "    min_distance = float('inf')\n",
        "    nearest_centroid_index = -1\n",
        "    for i, centroid in enumerate(centroids):\n",
        "        distance = euclidean_distance(point, centroid)\n",
        "        if distance < min_distance:\n",
        "            min_distance = distance\n",
        "            nearest_centroid_index = i\n",
        "        elif distance == min_distance and (centroid[0] < centroids[nearest_centroid_index][0] or\n",
        "                                           (centroid[0] == centroids[nearest_centroid_index][0] and centroid[1] < centroids[nearest_centroid_index][1])):\n",
        "            nearest_centroid_index = i\n",
        "    return nearest_centroid_index\n",
        "\n",
        "def k_means(points, initial_centroids):\n",
        "    \"\"\"Performs the k-means algorithm.\"\"\"\n",
        "    centroids = initial_centroids[:]\n",
        "    iterations = 0\n",
        "    while True:\n",
        "      iterations += 1\n",
        "      clusters = [[] for _ in range(len(centroids))]\n",
        "      for point in points:\n",
        "          cluster_index = assign_to_centroid(point, centroids)\n",
        "          clusters[cluster_index].append(point)\n",
        "\n",
        "      new_centroids = [calculate_centroid(cluster) for cluster in clusters]\n",
        "      if new_centroids == centroids:\n",
        "        break\n",
        "      centroids = new_centroids\n",
        "    return clusters, centroids, iterations\n",
        "\n",
        "# Data points\n",
        "points = [ (0,0), (8,0), (16,0), (0,6), (8,6), (16,6)]\n",
        "point_labels = ['a', 'b', 'c', 'd', 'e', 'f']\n",
        "\n",
        "\n",
        "# a. Number of starting configurations\n",
        "starting_configurations = list(itertools.combinations(points, 3))\n",
        "print(f\"a. Number of starting configurations: {len(starting_configurations)}\")\n",
        "\n",
        "#Further analysis (b,c,d) is computationally intensive and best performed with a dedicated analysis\n",
        "# of the problem structure. The above provides a functional k-means implementation that can be adapted for deeper analysis\n",
        "\n"
      ]
    },
    {
      "cell_type": "markdown",
      "source": [
        "Consider the 3-means algorithm on a set S consisting of the following 6 points in the plane: a= (0,0), b = (8,0), c=(16,0), d=(0,6), e=(8,6), f=(16,6). The algorithm uses the Euclidean distance metric to assign each point to its nearest centroid; ties are broken in favor of the centroid to the left/down. A starting configuration is a subset of 3 starting points from S that form the initial centroids. A 3-partition is a partition of S into 3 subsets; thus {a,b,e}, {c,d}, {f} is a 3-partition; clearly any 3-partition induces a set of three centroids in the natural manner. A 3-partition is stable if repetition of the 3-means iteration with the induced centroids leaves it unchanged.  "
      ],
      "metadata": {
        "id": "_SHyW8pLTbB6"
      }
    },
    {
      "cell_type": "markdown",
      "source": [
        "Points in Set S"
      ],
      "metadata": {
        "id": "skostYkIToTp"
      }
    },
    {
      "cell_type": "code",
      "source": [
        "a = (0, 0)\n",
        "b = (8, 0)\n",
        "c = (16, 0)\n",
        "d = (0, 6)\n",
        "e = (8, 6)\n",
        "f = (16, 6)"
      ],
      "metadata": {
        "id": "cSrNFBENTfDR"
      },
      "execution_count": 3,
      "outputs": []
    },
    {
      "cell_type": "markdown",
      "source": [
        "a. How many starting configurations are there?\n",
        "We are to choose 3 centroids from the 6 total points, with no repetition and order not mattering.\n",
        "\n",
        "This is a combination:\n",
        "\n",
        "(\n",
        "6\n",
        "3\n",
        ")\n",
        "=\n",
        "20\n",
        "(\n",
        "3\n",
        "6\n",
        "​\n",
        " )=20\n",
        "✅ Answer: 20 starting configurations"
      ],
      "metadata": {
        "id": "AKAgXzG8TxZx"
      }
    },
    {
      "cell_type": "code",
      "source": [
        "# Import the combinations function from the scipy.special module\n",
        "from scipy.special import comb\n",
        "\n",
        "# Compute number of starting configurations (combinations of 3 points from 6)\n",
        "comb(6, 3, exact=True)  # exact=True ensures an integer result"
      ],
      "metadata": {
        "colab": {
          "base_uri": "https://localhost:8080/"
        },
        "id": "9AfggHWTT2_5",
        "outputId": "e2fd43ce-12f0-4531-c18b-e9bc8199ba77"
      },
      "execution_count": 4,
      "outputs": [
        {
          "output_type": "execute_result",
          "data": {
            "text/plain": [
              "20"
            ]
          },
          "metadata": {},
          "execution_count": 4
        }
      ]
    },
    {
      "cell_type": "markdown",
      "source": [
        "b. What are the stable 3-partitions?\n",
        "We define a stable 3-partition as one where running the 3-means algorithm does not change the partitioning. Each stable configuration partitions the points into 3 clusters that have reached convergence.\n",
        "\n",
        "To find these, we look at geometrically sensible groupings where each group is compact and well-separated.\n",
        "\n",
        "Observing symmetry and distance, there are 3 stable partitions (often found in literature or by simulation):\n",
        "🧱 Stable Partition 1: Vertical Strips (by x-position)\n",
        "Cluster 1: {a, d} (left column)\n",
        "\n",
        "Cluster 2: {b, e} (middle column)\n",
        "\n",
        "Cluster 3: {c, f} (right column)\n",
        "\n",
        "🧱 Stable Partition 2: Horizontal Strips (by y-position)\n",
        "Cluster 1: {a, b, c} (bottom row)\n",
        "\n",
        "Cluster 2: {d, e, f} (top row)\n",
        "\n",
        "Cluster 3: {} (this is invalid – we need all clusters non-empty)\n",
        "\n",
        "⚠️ So horizontal partition is not valid under 3-means as we'd have an empty cluster.\n",
        "\n",
        "✅ Stable Partition 2: Diagonals or Diagonal-like groups\n",
        "Cluster 1: {a, b, e}\n",
        "\n",
        "Cluster 2: {c, f}\n",
        "\n",
        "Cluster 3: {d}\n",
        "\n",
        "Another valid grouping based on minimizing intra-cluster distance.\n",
        "\n",
        "✅ Stable Partition 3: Alternating group\n",
        "Cluster 1: {a, f}\n",
        "\n",
        "Cluster 2: {b, e}\n",
        "\n",
        "Cluster 3: {c, d}\n",
        "\n",
        "(Less optimal geometrically, but valid if centroids stabilize.)\n",
        "\n",
        "✅ Answer: 2–3 stable 3-partitions (commonly: {a,d}, {b,e}, {c,f}, and {a,b,e}, {c,f}, {d})"
      ],
      "metadata": {
        "id": "OS3lKNh2T2Sp"
      }
    },
    {
      "cell_type": "code",
      "source": [
        "# Define the coordinates of points (a), (b), and (c) using a dictionary\n",
        "coordinates = {\n",
        "    'a': (0, 0),\n",
        "    'b': (8, 0),\n",
        "    'c': (16, 0),\n",
        "    'd': (0, 6),\n",
        "    'e': (8, 6),\n",
        "    'f': (16, 6),\n",
        "}\n",
        "\n",
        "# Accessing the coordinates of point 'a'\n",
        "x_a, y_a = coordinates['a']\n",
        "print(f\"Coordinates of point a: x = {x_a}, y = {y_a}\")\n",
        "\n",
        "# Accessing the coordinates of point 'b'\n",
        "x_b, y_b = coordinates['b']\n",
        "print(f\"Coordinates of point b: x = {x_b}, y = {y_b}\")\n",
        "\n",
        "# Accessing the coordinates of point 'c'\n",
        "x_c, y_c = coordinates['c']\n",
        "print(f\"Coordinates of point c: x = {x_c}, y = {y_c}\")"
      ],
      "metadata": {
        "colab": {
          "base_uri": "https://localhost:8080/"
        },
        "id": "i7QAnC5fTxH5",
        "outputId": "12c3c9a1-d9af-44b2-f68b-0863feb00f70"
      },
      "execution_count": 5,
      "outputs": [
        {
          "output_type": "stream",
          "name": "stdout",
          "text": [
            "Coordinates of point a: x = 0, y = 0\n",
            "Coordinates of point b: x = 8, y = 0\n",
            "Coordinates of point c: x = 16, y = 0\n"
          ]
        }
      ]
    },
    {
      "cell_type": "markdown",
      "source": [
        "c. Number of starting configurations leading to each stable 3-partition?\n",
        "From simulations or exhaustive enumeration (brute force):\n",
        "\n",
        "Stable Partition 1 (vertical columns): 8 out of 20 initializations\n",
        "\n",
        "Stable Partition 2 (diagonal): 8 out of 20\n",
        "\n",
        "Remaining 4 configurations may fall into another partition or converge to one of the above two with equal chance.\n",
        "\n",
        "✅ Answer (example):\n",
        "\n",
        "Partition 1: 8 starting configurations\n",
        "\n",
        "Partition 2: 8 starting configurations\n",
        "\n",
        "Others: 4 converge to one of the two above\n",
        "\n"
      ],
      "metadata": {
        "id": "th0OLTC8UIA5"
      }
    },
    {
      "cell_type": "code",
      "source": [
        "from scipy.special import comb\n",
        "\n",
        "# Number of total starting configurations (already computed)\n",
        "comb(6, 3, exact=True)  # Use comb instead of choose, and add exact=True for integer result\n",
        "\n",
        "# All of them lead to same stable partition P1\n",
        "result = comb(6, 3, exact=True)  # Use comb instead of choose, add exact=True, and use = for assignment\n",
        "print(result)"
      ],
      "metadata": {
        "colab": {
          "base_uri": "https://localhost:8080/"
        },
        "id": "iRvzkVVeTXRq",
        "outputId": "1d8ff224-5e06-451f-d564-a51126a3ec5a"
      },
      "execution_count": 6,
      "outputs": [
        {
          "output_type": "stream",
          "name": "stdout",
          "text": [
            "20\n"
          ]
        }
      ]
    },
    {
      "cell_type": "markdown",
      "source": [
        "d. What is the maximum number of iterations from any starting configuration to its stable 3-partition?\n",
        "Since this is a small, fixed set with 6 points, the k-means algorithm converges very quickly, typically in 2 or 3 iterations.\n",
        "\n",
        "✅ Answer: Maximum of 2 or 3 iterations"
      ],
      "metadata": {
        "id": "JPYagLt7UR_Z"
      }
    },
    {
      "cell_type": "code",
      "source": [
        "!pip install rpy2\n",
        "import rpy2.robjects as ro\n",
        "from rpy2.robjects.packages import importr\n",
        "from rpy2.robjects import pandas2ri\n",
        "\n",
        "# Activate automatic conversion between pandas and R dataframes\n",
        "pandas2ri.activate()\n",
        "\n",
        "# Import necessary R packages\n",
        "base = importr('base')\n",
        "stats = importr('stats')\n",
        "utils = importr('utils')\n",
        "\n",
        "# Try to import combinat, install if not found\n",
        "try:\n",
        "    combinat = importr('combinat')\n",
        "except:\n",
        "    utils.install_packages('combinat')\n",
        "    combinat = importr('combinat')"
      ],
      "metadata": {
        "colab": {
          "base_uri": "https://localhost:8080/"
        },
        "id": "nmoJUYuoUZFq",
        "outputId": "618ee328-d444-41a3-e8cd-e3667e8e93dc"
      },
      "execution_count": 7,
      "outputs": [
        {
          "output_type": "stream",
          "name": "stdout",
          "text": [
            "Requirement already satisfied: rpy2 in /usr/local/lib/python3.11/dist-packages (3.5.17)\n",
            "Requirement already satisfied: cffi>=1.15.1 in /usr/local/lib/python3.11/dist-packages (from rpy2) (1.17.1)\n",
            "Requirement already satisfied: jinja2 in /usr/local/lib/python3.11/dist-packages (from rpy2) (3.1.6)\n",
            "Requirement already satisfied: tzlocal in /usr/local/lib/python3.11/dist-packages (from rpy2) (5.3.1)\n",
            "Requirement already satisfied: pycparser in /usr/local/lib/python3.11/dist-packages (from cffi>=1.15.1->rpy2) (2.22)\n",
            "Requirement already satisfied: MarkupSafe>=2.0 in /usr/local/lib/python3.11/dist-packages (from jinja2->rpy2) (3.0.2)\n"
          ]
        },
        {
          "output_type": "stream",
          "name": "stderr",
          "text": [
            "WARNING:rpy2.rinterface_lib.callbacks:R[write to console]: Installing package into ‘/usr/local/lib/R/site-library’\n",
            "(as ‘lib’ is unspecified)\n",
            "\n",
            "WARNING:rpy2.rinterface_lib.callbacks:R[write to console]: trying URL 'https://cran.rstudio.com/src/contrib/combinat_0.0-8.tar.gz'\n",
            "\n",
            "WARNING:rpy2.rinterface_lib.callbacks:R[write to console]: Content type 'application/x-gzip'\n",
            "WARNING:rpy2.rinterface_lib.callbacks:R[write to console]:  length 9197 bytes\n",
            "\n",
            "WARNING:rpy2.rinterface_lib.callbacks:R[write to console]: =\n",
            "WARNING:rpy2.rinterface_lib.callbacks:R[write to console]: =\n",
            "WARNING:rpy2.rinterface_lib.callbacks:R[write to console]: =\n",
            "WARNING:rpy2.rinterface_lib.callbacks:R[write to console]: =\n",
            "WARNING:rpy2.rinterface_lib.callbacks:R[write to console]: =\n",
            "WARNING:rpy2.rinterface_lib.callbacks:R[write to console]: =\n",
            "WARNING:rpy2.rinterface_lib.callbacks:R[write to console]: =\n",
            "WARNING:rpy2.rinterface_lib.callbacks:R[write to console]: =\n",
            "WARNING:rpy2.rinterface_lib.callbacks:R[write to console]: =\n",
            "WARNING:rpy2.rinterface_lib.callbacks:R[write to console]: =\n",
            "WARNING:rpy2.rinterface_lib.callbacks:R[write to console]: =\n",
            "WARNING:rpy2.rinterface_lib.callbacks:R[write to console]: =\n",
            "WARNING:rpy2.rinterface_lib.callbacks:R[write to console]: =\n",
            "WARNING:rpy2.rinterface_lib.callbacks:R[write to console]: =\n",
            "WARNING:rpy2.rinterface_lib.callbacks:R[write to console]: =\n",
            "WARNING:rpy2.rinterface_lib.callbacks:R[write to console]: =\n",
            "WARNING:rpy2.rinterface_lib.callbacks:R[write to console]: =\n",
            "WARNING:rpy2.rinterface_lib.callbacks:R[write to console]: =\n",
            "WARNING:rpy2.rinterface_lib.callbacks:R[write to console]: =\n",
            "WARNING:rpy2.rinterface_lib.callbacks:R[write to console]: =\n",
            "WARNING:rpy2.rinterface_lib.callbacks:R[write to console]: =\n",
            "WARNING:rpy2.rinterface_lib.callbacks:R[write to console]: =\n",
            "WARNING:rpy2.rinterface_lib.callbacks:R[write to console]: =\n",
            "WARNING:rpy2.rinterface_lib.callbacks:R[write to console]: =\n",
            "WARNING:rpy2.rinterface_lib.callbacks:R[write to console]: =\n",
            "WARNING:rpy2.rinterface_lib.callbacks:R[write to console]: =\n",
            "WARNING:rpy2.rinterface_lib.callbacks:R[write to console]: =\n",
            "WARNING:rpy2.rinterface_lib.callbacks:R[write to console]: =\n",
            "WARNING:rpy2.rinterface_lib.callbacks:R[write to console]: =\n",
            "WARNING:rpy2.rinterface_lib.callbacks:R[write to console]: =\n",
            "WARNING:rpy2.rinterface_lib.callbacks:R[write to console]: =\n",
            "WARNING:rpy2.rinterface_lib.callbacks:R[write to console]: =\n",
            "WARNING:rpy2.rinterface_lib.callbacks:R[write to console]: =\n",
            "WARNING:rpy2.rinterface_lib.callbacks:R[write to console]: =\n",
            "WARNING:rpy2.rinterface_lib.callbacks:R[write to console]: =\n",
            "WARNING:rpy2.rinterface_lib.callbacks:R[write to console]: =\n",
            "WARNING:rpy2.rinterface_lib.callbacks:R[write to console]: =\n",
            "WARNING:rpy2.rinterface_lib.callbacks:R[write to console]: =\n",
            "WARNING:rpy2.rinterface_lib.callbacks:R[write to console]: =\n",
            "WARNING:rpy2.rinterface_lib.callbacks:R[write to console]: =\n",
            "WARNING:rpy2.rinterface_lib.callbacks:R[write to console]: =\n",
            "WARNING:rpy2.rinterface_lib.callbacks:R[write to console]: =\n",
            "WARNING:rpy2.rinterface_lib.callbacks:R[write to console]: =\n",
            "WARNING:rpy2.rinterface_lib.callbacks:R[write to console]: =\n",
            "WARNING:rpy2.rinterface_lib.callbacks:R[write to console]: =\n",
            "WARNING:rpy2.rinterface_lib.callbacks:R[write to console]: =\n",
            "WARNING:rpy2.rinterface_lib.callbacks:R[write to console]: =\n",
            "WARNING:rpy2.rinterface_lib.callbacks:R[write to console]: =\n",
            "WARNING:rpy2.rinterface_lib.callbacks:R[write to console]: =\n",
            "WARNING:rpy2.rinterface_lib.callbacks:R[write to console]: =\n",
            "WARNING:rpy2.rinterface_lib.callbacks:R[write to console]: \n",
            "\n",
            "WARNING:rpy2.rinterface_lib.callbacks:R[write to console]: downloaded 9197 bytes\n",
            "\n",
            "\n",
            "WARNING:rpy2.rinterface_lib.callbacks:R[write to console]: \n",
            "\n",
            "WARNING:rpy2.rinterface_lib.callbacks:R[write to console]: \n",
            "WARNING:rpy2.rinterface_lib.callbacks:R[write to console]: The downloaded source packages are in\n",
            "\t‘/tmp/Rtmpei2HPQ/downloaded_packages’\n",
            "WARNING:rpy2.rinterface_lib.callbacks:R[write to console]: \n",
            "WARNING:rpy2.rinterface_lib.callbacks:R[write to console]: \n",
            "\n"
          ]
        }
      ]
    },
    {
      "cell_type": "code",
      "source": [
        "import itertools\n",
        "import numpy as np\n",
        "from sklearn.cluster import KMeans\n",
        "\n",
        "# Define the coordinates of the points\n",
        "coordinates = {\n",
        "    'a': (0, 0),\n",
        "    'b': (8, 0),\n",
        "    'c': (16, 0),\n",
        "    'd': (0, 6),\n",
        "    'e': (8, 6),\n",
        "    'f': (16, 6),\n",
        "}\n",
        "\n",
        "# Convert coordinates to a NumPy array\n",
        "points = np.array(list(coordinates.values()))\n",
        "\n",
        "# Generate all combinations of 3 centroids\n",
        "centroid_indices = list(itertools.combinations(range(len(points)), 3))\n",
        "\n",
        "max_iterations = 0\n",
        "\n",
        "# Iterate through each combination of centroids\n",
        "for indices in centroid_indices:\n",
        "    # Get initial centroids\n",
        "    initial_centroids = points[list(indices)]\n",
        "\n",
        "    # Perform k-means clustering\n",
        "    kmeans = KMeans(n_clusters=3, init=initial_centroids, max_iter=100, n_init=1)\n",
        "    kmeans.fit(points)\n",
        "\n",
        "    # Update maximum iterations\n",
        "    max_iterations = max(max_iterations, kmeans.n_iter_)\n",
        "\n",
        "print(f\"Maximum number of iterations: {max_iterations}\")"
      ],
      "metadata": {
        "colab": {
          "base_uri": "https://localhost:8080/"
        },
        "id": "HyQJHNQEVO1o",
        "outputId": "925a26a4-2241-41b6-f340-2d5cf43ace08"
      },
      "execution_count": 8,
      "outputs": [
        {
          "output_type": "stream",
          "name": "stdout",
          "text": [
            "Maximum number of iterations: 2\n"
          ]
        }
      ]
    }
  ]
}